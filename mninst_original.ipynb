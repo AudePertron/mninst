{
 "cells": [
  {
   "cell_type": "markdown",
   "metadata": {},
   "source": [
    "# projet mnist"
   ]
  },
  {
   "cell_type": "code",
   "execution_count": 1,
   "metadata": {},
   "outputs": [],
   "source": [
    "import numpy as np\n",
    "from sklearn.datasets import fetch_openml\n",
    "import matplotlib.pyplot as plt\n",
    "from sklearn.model_selection import train_test_split"
   ]
  },
  {
   "cell_type": "code",
   "execution_count": 2,
   "metadata": {},
   "outputs": [],
   "source": [
    "mninst = fetch_openml('mnist_784', version=1)"
   ]
  },
  {
   "cell_type": "markdown",
   "metadata": {},
   "source": [
    "### 1. Le retour de la fonction \"fetch_openml\" est un dictionnaire (mnist). Affichez ces clés."
   ]
  },
  {
   "cell_type": "code",
   "execution_count": 3,
   "metadata": {},
   "outputs": [
    {
     "name": "stdout",
     "output_type": "stream",
     "text": [
      "dict_keys(['data', 'target', 'frame', 'categories', 'feature_names', 'target_names', 'DESCR', 'details', 'url'])\n"
     ]
    }
   ],
   "source": [
    "print(mninst.keys())"
   ]
  },
  {
   "cell_type": "markdown",
   "metadata": {},
   "source": [
    "### 2. En utilisant les clés du dictionnaire \"mnist\", affichez :\n",
    "La taille des données (le nombre des features et la taille de chaque feature). Par convention, les données sont à stocker dans une variable \"X\".\n",
    "La taille des labels=classes (le nombre des labels). Par convention, les classes sont souvent à stocker dans une variable \"y\""
   ]
  },
  {
   "cell_type": "code",
   "execution_count": 4,
   "metadata": {},
   "outputs": [
    {
     "name": "stdout",
     "output_type": "stream",
     "text": [
      "Features:  (70000, 784) taille des features:  70000\n"
     ]
    }
   ],
   "source": [
    "print(\"Features: \", mninst.data.shape, \"taille des features: \", len(mninst.data))"
   ]
  },
  {
   "cell_type": "code",
   "execution_count": 5,
   "metadata": {},
   "outputs": [
    {
     "name": "stdout",
     "output_type": "stream",
     "text": [
      "Target (70000,)\n"
     ]
    }
   ],
   "source": [
    "print(\"Target\", mninst.target.shape)"
   ]
  },
  {
   "cell_type": "code",
   "execution_count": 6,
   "metadata": {},
   "outputs": [],
   "source": [
    "X = mninst.data\n",
    "y = mninst.target"
   ]
  },
  {
   "cell_type": "markdown",
   "metadata": {},
   "source": [
    "#### Les différentes classes de la base de données"
   ]
  },
  {
   "cell_type": "code",
   "execution_count": 7,
   "metadata": {},
   "outputs": [
    {
     "name": "stdout",
     "output_type": "stream",
     "text": [
      "['0' '1' '2' '3' '4' '5' '6' '7' '8' '9']\n"
     ]
    }
   ],
   "source": [
    "print(np.unique(y))"
   ]
  },
  {
   "cell_type": "markdown",
   "metadata": {},
   "source": [
    "#### Une description détaillée de la base de données."
   ]
  },
  {
   "cell_type": "code",
   "execution_count": null,
   "metadata": {},
   "outputs": [],
   "source": []
  },
  {
   "cell_type": "markdown",
   "metadata": {},
   "source": [
    "### A travers cette question, vous avez dû conclure que la base de données MNIST contient \n",
    "70 000 images en niveau de gris, et chaque image est caractérisée par un features de taille 784\n",
    "=28*28.\n",
    "\n",
    "Affichez l’image de la première instance de la base de données."
   ]
  },
  {
   "cell_type": "code",
   "execution_count": 8,
   "metadata": {},
   "outputs": [
    {
     "data": {
      "text/plain": [
       "<matplotlib.image.AxesImage at 0x258f8e48d90>"
      ]
     },
     "execution_count": 8,
     "metadata": {},
     "output_type": "execute_result"
    },
    {
     "data": {
      "image/png": "[encoded data removed]",
      "text/plain": [
       "<Figure size 432x288 with 1 Axes>"
      ]
     },
     "metadata": {
      "needs_background": "light"
     },
     "output_type": "display_data"
    }
   ],
   "source": [
    "\n",
    "img = np.array((X[0]))\n",
    "img = img.reshape(28,28)\n",
    "plt.imshow(img)"
   ]
  },
  {
   "cell_type": "markdown",
   "metadata": {},
   "source": [
    "#### Affichez la classe de la première instance"
   ]
  },
  {
   "cell_type": "code",
   "execution_count": 9,
   "metadata": {},
   "outputs": [
    {
     "name": "stdout",
     "output_type": "stream",
     "text": [
      "5\n"
     ]
    }
   ],
   "source": [
    "print(y[0])"
   ]
  },
  {
   "cell_type": "markdown",
   "metadata": {},
   "source": [
    "### 4. Affichez le type des labels (du premier label par exemple)"
   ]
  },
  {
   "cell_type": "code",
   "execution_count": null,
   "metadata": {},
   "outputs": [],
   "source": []
  },
  {
   "cell_type": "markdown",
   "metadata": {},
   "source": [
    "### 5. A travers la question précédente, vous avez dû remarquer que le type des labels est\n",
    "une chaîne de caractères. Il est préférable, dans les projets d’apprentissage automatique,\n",
    "\n",
    "d’utiliser des chiffres. Par conséquent, appliquez le casting sur les labels pour les transformer à des entiers."
   ]
  },
  {
   "cell_type": "code",
   "execution_count": 10,
   "metadata": {},
   "outputs": [
    {
     "name": "stdout",
     "output_type": "stream",
     "text": [
      "int32\n"
     ]
    }
   ],
   "source": [
    "y = y.astype(int)\n",
    "print(y.dtype)"
   ]
  },
  {
   "cell_type": "markdown",
   "metadata": {},
   "source": [
    "## 1.3 Répartition des données\n",
    "Contrairement aux précédents projets, les données dans MNIST sont déjà partitionnées en\n",
    "base d’apprentissage et en base de test. Les 60 000 premières images composeront la base\n",
    "d’apprentissage et le reste des images constituera la base de test. Écrivez un code qui met en\n",
    "exergue cette répartition tout en stockant les données de test/d’apprentissage et les classes de\n",
    "test/d’apprentissage dans 4 variables."
   ]
  },
  {
   "cell_type": "code",
   "execution_count": 11,
   "metadata": {},
   "outputs": [
    {
     "name": "stdout",
     "output_type": "stream",
     "text": [
      "60000 10000\n"
     ]
    }
   ],
   "source": [
    "X_train, X_test, y_train, y_test = train_test_split(X, y, test_size=0.14285, random_state=42)\n",
    "print(len(X_train), len(X_test))"
   ]
  },
  {
   "cell_type": "markdown",
   "metadata": {},
   "source": [
    "## 2 Apprentissage d’un classifieur binaire\n",
    "Comme indiqué dans les objectifs, ce projet vise à classifier les chiffres. Une des solutions est\n",
    "d’utiliser un classifieur binaire qui est apte d’identifier que l’image représente bien le chiffre que\n",
    "nous cherchons ou non. Par exemple, nous nous focaliserons sur la reconnaissance du chiffre 5\n",
    "### 2.1 Apprentissage des données\n",
    "1. En utilisant les labels d’apprentissage et de test, écrivez un code qui stocke dans deux variables (une première pour la base d’apprentissage et une autre pour la base de test) distinctes\n",
    "\n",
    "True si le classe de l’instance est 5 et False Sinon. De ce fait, nous traitons une classification\n",
    "binaire."
   ]
  },
  {
   "cell_type": "code",
   "execution_count": 12,
   "metadata": {},
   "outputs": [
    {
     "name": "stdout",
     "output_type": "stream",
     "text": [
      "[False False False False False False False False False False False False\n",
      " False False False False False False False False]\n",
      "[2 4 0 1 6 6 9 0 3 4 4 3 1 4 7 1 6 9 3 0]\n"
     ]
    }
   ],
   "source": [
    "y_five_test = np.zeros((y_test.shape))\n",
    "y_five_test = np.where(y_test == 5, True, False)\n",
    "\n",
    "y_five_train = np.zeros((y_train.shape))\n",
    "y_five_train = np.where(y_train == 5, True, False)\n",
    "\n",
    "print(y_five_train[0:20])\n",
    "print(y_train[0:20])"
   ]
  },
  {
   "cell_type": "markdown",
   "metadata": {},
   "source": [
    "2. Pour l’apprentissage des données, nous allons utiliser le classifieur Stochastic Gradient Descent (SGD). Utiliser ce modèle pour la prédiction sur un chiffre (exemple 5)."
   ]
  },
  {
   "cell_type": "code",
   "execution_count": 13,
   "metadata": {},
   "outputs": [
    {
     "name": "stdout",
     "output_type": "stream",
     "text": [
      "0.9616\n",
      "[False False False False  True False False False False  True False False\n",
      " False False  True False False False False False]\n",
      "[False False False False False False False False False  True False False\n",
      " False False False False False False False False]\n"
     ]
    }
   ],
   "source": [
    "from sklearn.linear_model import SGDClassifier\n",
    "clf = SGDClassifier(loss=\"hinge\", penalty=\"l2\", max_iter=500)\n",
    "clf.fit(X_train, y_five_train)\n",
    "SGDClassifier(max_iter=5)\n",
    "y_five_predict = clf.predict(X_train)\n",
    "print(clf.score(X_test, y_five_test))\n",
    "print(y_five_predict[20:40])\n",
    "print(y_five_train[20:40])"
   ]
  },
  {
   "cell_type": "markdown",
   "metadata": {},
   "source": [
    "#### 2.2 Évaluation du modèle d’apprentissage sur les données d’apprentissage\n",
    "La mesure de performance d’une méthode de classification est souvent plus délicate qu’une méth-\n",
    "ode de régression. Cela est dû au nombre de mesures de performance existantes dans la littérature.\n",
    "\n",
    "#### 2.2.1 Taux de classification\n",
    "1. Écrivez un code qui répartit la base d’apprentissage en base d’apprentissage et en base de\n",
    "validation en utilisant la méthode 3-fold cross-validation. Optez pour la valeur \"accuracy\"\n",
    "pour l’argument \"scoring\" pour afficher :\n",
    "\n",
    "• le taux de classification (accuracy) de chaque fold\n",
    "\n",
    "• la moyenne des taux de classification"
   ]
  },
  {
   "cell_type": "code",
   "execution_count": 14,
   "metadata": {},
   "outputs": [
    {
     "name": "stdout",
     "output_type": "stream",
     "text": [
      "[0.9663  0.9639  0.96255]\n",
      "0.9642500000000002\n"
     ]
    }
   ],
   "source": [
    "from sklearn.model_selection import cross_val_score\n",
    "acc_folds = cross_val_score (clf,  X_train,  y_five_train,  cv=3, scoring= \"accuracy\")\n",
    "print(acc_folds)\n",
    "print(np.mean(acc_folds))"
   ]
  },
  {
   "cell_type": "markdown",
   "metadata": {},
   "source": [
    "#### 2. Dans cette question, vous allez créer un classifieur simple qui classifie toutes les images de\n",
    "\n",
    "MNIST comme \"non-5\". Créez une classe Never5Classifier qui hérite de la classe BaseEsti-\n",
    "mator. la classe BaseEstimator existe dans le sous-module \"base\" du module \"sklearn\".\n",
    "\n",
    "3. Dans la classe Never5Classifier, créez :\n",
    "• Une méthode fit qui prend en argument les données et les labels. Cette méthode ne va\n",
    "\n",
    "rien retourner et par conséquent va contenir que le mot-clé \"pass\". Vous allez implé-\n",
    "menter cette méthode car l’héritage de la classe BaseEstimator l’exige\n",
    "\n",
    "• Une méthode predict qui prend en argument les données et retourne une structure de\n",
    "données ayant la taille des données et qui contient que la valeur False (= non-5). Utilisez\n",
    "la fonction \"zeros\" du module \"numpy\" avec un \"dtype=bool\""
   ]
  },
  {
   "cell_type": "code",
   "execution_count": 15,
   "metadata": {},
   "outputs": [],
   "source": [
    "from  sklearn . base  import  BaseEstimator\n",
    "class Never5Classifier(BaseEstimator):\n",
    "    def fit(self, X, y):\n",
    "        pass\n",
    "    def predict(self, X):\n",
    "        y_never_five = np.zeros((y.shape))\n",
    "        y_never_five = np.zeros((len(X),1), dtype=bool)\n",
    "        return y_never_five\n"
   ]
  },
  {
   "cell_type": "markdown",
   "metadata": {},
   "source": [
    "#### 4. Créez un objet de la classe Never5Classifier\n",
    "#### 5. Testez le classifieur en utilisant une validation croisée de type 3-fold cross-validation. Optez\n",
    "pour la valeur \"accuracy\" pour l’argument \"scoring\" pour afficher : le taux de classification\n",
    "(accuracy) de chaque fold; La moyenne des taux de classification."
   ]
  },
  {
   "cell_type": "code",
   "execution_count": 16,
   "metadata": {},
   "outputs": [
    {
     "name": "stdout",
     "output_type": "stream",
     "text": [
      "[0.9119  0.90875 0.91055]\n",
      "0.9104000000000001\n"
     ]
    }
   ],
   "source": [
    "never = Never5Classifier()\n",
    "acc_never = cross_val_score (never,  X_train,  y_five_train,  cv=3, scoring= \"accuracy\")\n",
    "print(acc_never)\n",
    "print(np.mean(acc_never))"
   ]
  },
  {
   "cell_type": "markdown",
   "metadata": {},
   "source": [
    "### 2.2.2 Matrice de confusion:\n",
    "1. En utilisant le modèle déjà construit du classifieur SGD, prédisez les classes des données\n",
    "d’apprentissage. Pour ce faire, utilisez la fonction \"cross_val_predict\" du sous-module\n",
    "\"model_selection\" du module \"sklearn\". Optez pour une validation croisée de type 3-fold\n",
    "cross validation."
   ]
  },
  {
   "cell_type": "code",
   "execution_count": 17,
   "metadata": {},
   "outputs": [
    {
     "name": "stdout",
     "output_type": "stream",
     "text": [
      "[[False]\n",
      " [False]\n",
      " [False]\n",
      " ...\n",
      " [False]\n",
      " [False]\n",
      " [False]]\n"
     ]
    }
   ],
   "source": [
    "from sklearn.model_selection import cross_val_predict\n",
    "y_five_pred = cross_val_predict(never, X_train, y_five_train,  cv=3)\n",
    "print(y_five_pred)"
   ]
  },
  {
   "cell_type": "markdown",
   "metadata": {},
   "source": [
    "##### 2. Affichez la matrice de confusion du modèle d’apprentissage. Veillez à bien interpréter la\n",
    "matrice de confusion."
   ]
  },
  {
   "cell_type": "code",
   "execution_count": 18,
   "metadata": {},
   "outputs": [
    {
     "name": "stdout",
     "output_type": "stream",
     "text": [
      "[[53158  1466]\n",
      " [  694  4682]]\n"
     ]
    }
   ],
   "source": [
    "# pour le SGD\n",
    "from sklearn.metrics import confusion_matrix\n",
    "\n",
    "matrx = confusion_matrix(y_five_train, y_five_predict)\n",
    "print(matrx)"
   ]
  },
  {
   "cell_type": "code",
   "execution_count": 19,
   "metadata": {},
   "outputs": [
    {
     "name": "stdout",
     "output_type": "stream",
     "text": [
      "[[54624     0]\n",
      " [ 5376     0]]\n"
     ]
    }
   ],
   "source": [
    "# pour le never five\n",
    "from sklearn.metrics import confusion_matrix\n",
    "matrx = confusion_matrix(y_five_train, y_five_pred)\n",
    "print(matrx)"
   ]
  },
  {
   "attachments": {
    "image.png": {
     "image/png": "[encoded data removed]"
    }
   },
   "cell_type": "markdown",
   "metadata": {},
   "source": [
    "![image.png](attachment:image.png)\n",
    "pour le never five, on trouve bien uniquement des true negative et des falses négatives (les cinq classés en False)\n",
    "pour le SGD on peut voir les quelques faux négatifs et faux positifs.\n"
   ]
  },
  {
   "cell_type": "markdown",
   "metadata": {},
   "source": [
    "### 2.2.3 Précision et rappel:\n",
    "1. Calculez la précision, le rappel et le score F1 du modèle d’apprentissage"
   ]
  },
  {
   "cell_type": "code",
   "execution_count": 20,
   "metadata": {},
   "outputs": [
    {
     "name": "stdout",
     "output_type": "stream",
     "text": [
      "precision 0.7615484710474951\n",
      "recall 0.8709077380952381\n",
      "f1 0.8125650815688996\n"
     ]
    }
   ],
   "source": [
    "from sklearn.metrics import precision_recall_fscore_support\n",
    "from sklearn.metrics import recall_score\n",
    "from sklearn.metrics import precision_score\n",
    "from sklearn.metrics import f1_score\n",
    "\n",
    "#print(precision_recall_fscore_support(y_five_train, y_five_predict))\n",
    "\n",
    "print(\"precision\", precision_score(y_five_train, y_five_predict))\n",
    "print(\"recall\", recall_score(y_five_train, y_five_predict))\n",
    "print(\"f1\", f1_score(y_five_train, y_five_predict))\n"
   ]
  },
  {
   "cell_type": "markdown",
   "metadata": {},
   "source": [
    "#### 2. Pour classifier les instances, le classifieur SGD calcule un score en se basant sur sa fonction de décision. Si le score est supérieur à un seuil, il affecte la classe positive à l’instance sinon il affecte la classe négative. Affichez les scores des différentes instances de la base d’apprentissage via la fonction \"cross_val_predict\". Optez pour une valeur de \"decision_function\" pour l’argument \"method\" et une validation croisée de type 3-fold cross-validation."
   ]
  },
  {
   "cell_type": "code",
   "execution_count": 21,
   "metadata": {},
   "outputs": [],
   "source": [
    "y_five_pred_df = cross_val_predict(clf, X_train, y_five_train, cv=3, method = \"decision_function\")"
   ]
  },
  {
   "cell_type": "code",
   "execution_count": 22,
   "metadata": {},
   "outputs": [
    {
     "name": "stdout",
     "output_type": "stream",
     "text": [
      "[-8929.78161872 -6808.36805334 -2667.882915   ... -5922.5148639\n",
      " -2949.90979911 -6966.7450938 ]\n"
     ]
    }
   ],
   "source": [
    "print(y_five_pred_df)"
   ]
  },
  {
   "cell_type": "markdown",
   "metadata": {},
   "source": [
    "#### 3. Calculez les précisions et les rappels de chaque instance en utilisant la fonction \"precision_recall_curve\""
   ]
  },
  {
   "cell_type": "code",
   "execution_count": 23,
   "metadata": {},
   "outputs": [
    {
     "name": "stdout",
     "output_type": "stream",
     "text": [
      "precision :  [0.08963137 0.08961619 0.08961769 ... 1.         1.         1.        ]\n",
      "recall : [1.00000000e+00 9.99813988e-01 9.99813988e-01 ... 3.72023810e-04\n",
      " 1.86011905e-04 0.00000000e+00]\n",
      "thresholds : [-95391.23877997 -94925.13589267 -94888.30991612 ...  29193.1426085\n",
      "  30428.51696109  33362.59061064]\n"
     ]
    }
   ],
   "source": [
    "from sklearn.metrics import precision_recall_curve\n",
    "precision, recall, thresholds = precision_recall_curve(y_five_train, y_five_pred_df)\n",
    "print(\"precision : \", precision)\n",
    "print(\"recall :\", recall)\n",
    "print(\"thresholds :\", thresholds)"
   ]
  },
  {
   "cell_type": "markdown",
   "metadata": {},
   "source": [
    "#### 4. Tracez la courbe des précisions/rappels. L’axe des abscisses doit contenir les rappels et l’axe des ordonnées doit contenir les précisions. Interprétez les résultats."
   ]
  },
  {
   "cell_type": "code",
   "execution_count": 24,
   "metadata": {},
   "outputs": [
    {
     "data": {
      "image/png": "[encoded data removed]",
      "text/plain": [
       "<Figure size 432x288 with 1 Axes>"
      ]
     },
     "metadata": {
      "needs_background": "light"
     },
     "output_type": "display_data"
    }
   ],
   "source": [
    "plt.plot(recall, precision)\n",
    "plt.title(\"Courbe de précision/rappel\")\n",
    "plt.show()"
   ]
  },
  {
   "cell_type": "markdown",
   "metadata": {},
   "source": [
    "Nous pouvons constater que la précision est inversement proportionnelle au rappel."
   ]
  },
  {
   "cell_type": "markdown",
   "metadata": {},
   "source": [
    "### 2.2.4 Courbe ROC:\n",
    "#### 1. Calculez le taux de faux positifs (tfp), le taux de vrais positifs (tvp) et les seuils utilisés pour\n",
    "\n",
    "classifier les données d’apprentissage. Pour ce faire, utilisez la fonction \"roc_curve\" du sous-\n",
    "module \"metrics\" du module \"sklearn\""
   ]
  },
  {
   "cell_type": "code",
   "execution_count": 25,
   "metadata": {},
   "outputs": [
    {
     "name": "stdout",
     "output_type": "stream",
     "text": [
      "[0.         0.         0.         ... 0.99961555 0.99961555 1.        ]\n"
     ]
    }
   ],
   "source": [
    "from sklearn import metrics\n",
    "fpr, tpr, thresholds = metrics.roc_curve(y_five_train, y_five_pred_df, pos_label=1) #False Positive Rate #True Positive Rate\n",
    "print(fpr)"
   ]
  },
  {
   "cell_type": "markdown",
   "metadata": {},
   "source": [
    "#### 2. Tracez la courbe des ROC. L’axe des abscisses doit contenir les taux de faux positifs et l’axe\n",
    "des ordonnées doit contenir les taux de vrais positifs. Ajoutez des titres à ces deux axes et\n",
    "activer le mode \"grid\" avec la fonction grid de matplotlib"
   ]
  },
  {
   "cell_type": "code",
   "execution_count": 26,
   "metadata": {},
   "outputs": [
    {
     "data": {
      "image/png": "[encoded data removed]",
      "text/plain": [
       "<Figure size 432x288 with 1 Axes>"
      ]
     },
     "metadata": {
      "needs_background": "light"
     },
     "output_type": "display_data"
    }
   ],
   "source": [
    "plt.plot(fpr, tpr)\n",
    "plt.title(\"Courbe de précision/rappel\")\n",
    "plt.xlabel(\"taux de faux positifs\")\n",
    "plt.ylabel(\"taux de vrais positifs\")\n",
    "plt.grid(True)\n",
    "plt.show()"
   ]
  },
  {
   "cell_type": "markdown",
   "metadata": {},
   "source": [
    "#### 3. Calculez l’AUC (Area Under the Curve) du modèle d’apprentissage. Pour ce faire, utilisez\n",
    "la fonction \"roc_auc_score\" du sous-module \"metrics\" du module \"sklearn\"."
   ]
  },
  {
   "cell_type": "code",
   "execution_count": 27,
   "metadata": {},
   "outputs": [
    {
     "data": {
      "text/plain": [
       "0.9425024207700434"
      ]
     },
     "execution_count": 27,
     "metadata": {},
     "output_type": "execute_result"
    }
   ],
   "source": [
    "from sklearn.metrics import roc_auc_score\n",
    "roc_auc_score(y_five_train, y_five_pred_df)"
   ]
  },
  {
   "cell_type": "markdown",
   "metadata": {},
   "source": [
    "## 3 Apprentissage d’un classifieur multi-classes\n",
    "Dans cette partie, nous allons apprendre un classifieur à classifier les 10 classes (les chiffres de 0 à 9) de la base de données MNIST.\n",
    "### 3.1 Apprentissage des données\n",
    "#### 1. En se basant sur le classifieur SGD, faites l’apprentissage du modèle en se basant sur toutes\n",
    "les instances (images) d’apprentissage. Ainsi le modèle va apprendre à partir de toutes les\n",
    "classes de la BD et non pas juste à partir de deux classes comme c’était le cas dans la partie\n",
    "II de TP."
   ]
  },
  {
   "cell_type": "code",
   "execution_count": 28,
   "metadata": {},
   "outputs": [
    {
     "name": "stdout",
     "output_type": "stream",
     "text": [
      "0.8774\n",
      "[7 7 9 2 5 6 4 1 4 5 4 7 6 2 5 2 9 7 2 2]\n",
      "[7 7 9 2 6 6 4 1 4 5 4 7 6 4 2 2 9 7 2 2]\n"
     ]
    }
   ],
   "source": [
    "clf = SGDClassifier(loss=\"hinge\", penalty=\"l2\", max_iter=500)\n",
    "clf.fit(X_train, y_train)\n",
    "SGDClassifier(max_iter=5)\n",
    "y_pred = clf.predict(X_train)\n",
    "print(clf.score(X_test, y_test))\n",
    "print(y_pred[20:40])\n",
    "print(y_train[20:40])"
   ]
  },
  {
   "cell_type": "markdown",
   "metadata": {},
   "source": [
    "#### 2. Via le modèle d’apprentissage bâti, prédisez la classe de la première instance de la base de\n",
    "données (celle de la question 3). La prédiction va être, cette fois-ci, un chiffre de 0 à 9."
   ]
  },
  {
   "cell_type": "code",
   "execution_count": 29,
   "metadata": {},
   "outputs": [
    {
     "data": {
      "text/plain": [
       "array([5])"
      ]
     },
     "execution_count": 29,
     "metadata": {},
     "output_type": "execute_result"
    }
   ],
   "source": [
    "example = X[0].reshape(1,784)\n",
    "clf.predict(example)"
   ]
  },
  {
   "cell_type": "markdown",
   "metadata": {},
   "source": [
    "#### 3. En utilisant l’objet qui instancie la classe SGDClassifier :\n",
    "• Affichez, via la méthode \"decision_function\", les 10 scores de décision utilisés par la\n",
    "méthode SGD pour classifier la première instance de la base de données."
   ]
  },
  {
   "cell_type": "code",
   "execution_count": 30,
   "metadata": {},
   "outputs": [
    {
     "data": {
      "text/plain": [
       "array([[-22246.25377642, -32398.50387103,  -8655.84341851,\n",
       "         -3195.62598017, -25858.08756876,   1374.18950773,\n",
       "        -34336.1995232 , -10763.60594657, -12280.71013588,\n",
       "        -14070.67821831]])"
      ]
     },
     "execution_count": 30,
     "metadata": {},
     "output_type": "execute_result"
    }
   ],
   "source": [
    "clf.decision_function(example)"
   ]
  },
  {
   "cell_type": "markdown",
   "metadata": {},
   "source": [
    "• Affichez, via l’attribut \"classes_\", les différentes classes utilisées par le classifieur. Qu’est\n",
    "ce que vous remarquez ?"
   ]
  },
  {
   "cell_type": "code",
   "execution_count": 31,
   "metadata": {},
   "outputs": [
    {
     "data": {
      "text/plain": [
       "array([0, 1, 2, 3, 4, 5, 6, 7, 8, 9])"
      ]
     },
     "execution_count": 31,
     "metadata": {},
     "output_type": "execute_result"
    }
   ],
   "source": [
    "clf.classes_"
   ]
  },
  {
   "cell_type": "markdown",
   "metadata": {},
   "source": [
    "On remarque que la valeur qui correspond à 5 est la seule positive."
   ]
  },
  {
   "cell_type": "markdown",
   "metadata": {},
   "source": [
    "### 3.2 Évaluation du modèle d’apprentissage sur les données d’apprentissage\n",
    "#### 3.2.1 Taux de classification\n",
    "###### 1. Écrivez un code qui répartit la base d’apprentissage en base d’apprentissage et en base de\n",
    "validation en utilisant la méthode 3-fold cross-validation. Optez pour la valeur \"accuracy\"\n",
    "pour l’argument \"scoring\" pour afficher : le taux de classification (accuracy) de chaque fold;\n",
    "la moyenne des taux de classification"
   ]
  },
  {
   "cell_type": "code",
   "execution_count": 32,
   "metadata": {},
   "outputs": [
    {
     "name": "stdout",
     "output_type": "stream",
     "text": [
      "[0.8849  0.85175 0.8833 ]\n",
      "0.8733166666666667\n"
     ]
    }
   ],
   "source": [
    "from sklearn.model_selection import cross_val_score\n",
    "accu_folds = cross_val_score (clf,  X_train,  y_train,  cv=3, scoring= \"accuracy\")\n",
    "print(accu_folds)\n",
    "print(np.mean(accu_folds))"
   ]
  },
  {
   "cell_type": "markdown",
   "metadata": {},
   "source": [
    "##### 2. Une des techniques d’amélioration des taux de classification est le \"Scaling\". Vérifiez ceci\n",
    "\n",
    "en appliquant une standardisation sur les données d’apprentissage avec la classe StandartScaler."
   ]
  },
  {
   "cell_type": "code",
   "execution_count": 33,
   "metadata": {},
   "outputs": [],
   "source": [
    "from sklearn.preprocessing import StandardScaler\n",
    "\n",
    "scaler = StandardScaler()\n",
    "X_train_scaled = scaler.fit_transform(X_train)\n"
   ]
  },
  {
   "cell_type": "markdown",
   "metadata": {},
   "source": [
    "##### 3. Évaluez le modèle sur les nouvelles données d’apprentissage avec une validation croisée de\n",
    "type 3-fold cross-validation. Les résultats sont-ils meilleurs que ceux avant le Scaling?"
   ]
  },
  {
   "cell_type": "code",
   "execution_count": 34,
   "metadata": {},
   "outputs": [
    {
     "name": "stdout",
     "output_type": "stream",
     "text": [
      "[0.90775 0.9088  0.8976 ]\n",
      "0.9047166666666667\n"
     ]
    }
   ],
   "source": [
    "accu_folds_scaled = cross_val_score (clf,  X_train_scaled,  y_train,  cv=3, scoring= \"accuracy\")\n",
    "print(accu_folds_scaled)\n",
    "print(np.mean(accu_folds_scaled))"
   ]
  },
  {
   "cell_type": "markdown",
   "metadata": {},
   "source": [
    "#### 3.2.2 Matrice de Confusion\n",
    "##### 1. En utilisant le modèle déjà construit du classifieur SGD, prédisez les classes des données\n",
    "d’apprentissage."
   ]
  },
  {
   "cell_type": "code",
   "execution_count": 35,
   "metadata": {},
   "outputs": [
    {
     "name": "stderr",
     "output_type": "stream",
     "text": [
      "C:\\Users\\utilisateur\\anaconda3\\lib\\site-packages\\sklearn\\linear_model\\_stochastic_gradient.py:570: ConvergenceWarning: Maximum number of iteration reached before convergence. Consider increasing max_iter to improve the fit.\n",
      "  warnings.warn(\"Maximum number of iteration reached before \"\n"
     ]
    },
    {
     "name": "stdout",
     "output_type": "stream",
     "text": [
      "0.822\n",
      "[7 7 9 2 5 6 4 1 4 5 4 7 6 8 8 2 9 7 2 2]\n",
      "[7 7 9 2 6 6 4 1 4 5 4 7 6 4 2 2 9 7 2 2]\n"
     ]
    }
   ],
   "source": [
    "clf_scaled = SGDClassifier(loss=\"hinge\", penalty=\"l2\", max_iter=500)\n",
    "clf_scaled.fit(X_train_scaled, y_train)\n",
    "SGDClassifier(max_iter=5)\n",
    "y_pred_scaled = clf_scaled.predict(X_train_scaled)\n",
    "print(clf_scaled.score(X_test, y_test))\n",
    "print(y_pred_scaled[20:40])\n",
    "print(y_train[20:40])"
   ]
  },
  {
   "cell_type": "markdown",
   "metadata": {},
   "source": [
    "##### 2. Affichez la matrice de confusion du modèle d’apprentissage. Pour ce faire, utilisez la fonc-\n",
    "tion \"confusion_matrix\" du sous-module \"metrics\" du module \"sklearn\". La taille de la ma-\n",
    "trice de confusion, cette fois-ci, est 10x10 car on traite un problème de classification de 10\n",
    "\n",
    "classes. Interprétez les résultats."
   ]
  },
  {
   "cell_type": "code",
   "execution_count": 36,
   "metadata": {},
   "outputs": [
    {
     "name": "stdout",
     "output_type": "stream",
     "text": [
      "[[5675    0    7   10    7   39   34    5  143    0]\n",
      " [   1 6454   42   15    5   39    7    8  142   12]\n",
      " [  24   23 5434   78   66   20   48   43  272   15]\n",
      " [  28   16  111 5379    1  195   23   39  255   60]\n",
      " [  10   16   47    7 5432    7   33   17  195  154]\n",
      " [  30   18   25  152   51 4618   78   19  323   62]\n",
      " [  26   15   50    1   33   87 5592    6  105    0]\n",
      " [  20   16   67   24   39   11    5 5766   98  192]\n",
      " [  17   66   46   84    3  111   27    9 5449   44]\n",
      " [  25   23   30   65  116   40    1  168  240 5214]]\n"
     ]
    }
   ],
   "source": [
    "from sklearn.metrics import confusion_matrix\n",
    "matrx = confusion_matrix(y_train, y_pred_scaled)\n",
    "print(matrx)"
   ]
  },
  {
   "cell_type": "code",
   "execution_count": 37,
   "metadata": {},
   "outputs": [],
   "source": [
    "import tensorflow as tf"
   ]
  }
 ],
 "metadata": {
  "kernelspec": {
   "display_name": "Python 3",
   "language": "python",
   "name": "python3"
  },
  "language_info": {
   "codemirror_mode": {
    "name": "ipython",
    "version": 3
   },
   "file_extension": ".py",
   "mimetype": "text/x-python",
   "name": "python",
   "nbconvert_exporter": "python",
   "pygments_lexer": "ipython3",
   "version": "3.8.3"
  }
 },
 "nbformat": 4,
 "nbformat_minor": 4
}
